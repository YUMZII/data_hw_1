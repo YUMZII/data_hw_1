{
 "cells": [
  {
   "cell_type": "code",
   "execution_count": 4,
   "id": "8f8fd0c2",
   "metadata": {
    "scrolled": true
   },
   "outputs": [
    {
     "name": "stdout",
     "output_type": "stream",
     "text": [
      "Initial Gradebook:\n",
      "[['physics', 98], ['calculus', 97], ['poetry', 85], ['history', 88]]\n",
      "Full Gradebook:\n",
      "[['politics', 80], ['latin', 96], ['dance', 97], ['architecture', 65], ['physics', 98], ['calculus', 97], ['poetry', 'Pass'], ['history', 88], ['computer science', 100], ['visual arts', 98]]\n"
     ]
    }
   ],
   "source": [
    "# 리스트 생성\n",
    "subjects = [\"physics\", \"calculus\", \"poetry\", \"history\"]\n",
    "grades = [98, 97, 85, 88]\n",
    "\n",
    "# 합쳐서 리스트 수동으로 생성\n",
    "gradebook = [[\"physics\", 98], [\"calculus\", 97], [\"poetry\", 85], [\"history\", 88]]\n",
    "\n",
    "# 처음 성적표 출력\n",
    "print(\"Initial Gradebook:\")\n",
    "print(gradebook)\n",
    "\n",
    "# 새로운 성적 추가\n",
    "gradebook.append([\"computer science\", 100])\n",
    "gradebook.append([\"visual arts\", 93])\n",
    "\n",
    "# 성적 수정\n",
    "gradebook[5][1] = 98 # 예술 성적 수정\n",
    "gradebook[2].remove(85) # 시 성적 삭제\n",
    "gradebook[2].append(\"Pass\") # 시 성적에 \"합격\" 추가\n",
    "\n",
    "# 지난 학기 성적표\n",
    "last_semester_gradebook = [[\"politics\", 80], [\"latin\", 96], [\"dance\", 97], [\"architecture\", 65]]\n",
    "\n",
    "# 성적표 합치기\n",
    "full_gradebook = last_semester_gradebook + gradebook\n",
    "\n",
    "# 전체 성적표 출력\n",
    "print(\"Full Gradebook:\")\n",
    "print(full_gradebook)\n"
   ]
  }
 ],
 "metadata": {
  "kernelspec": {
   "display_name": "Python 3 (ipykernel)",
   "language": "python",
   "name": "python3"
  },
  "language_info": {
   "codemirror_mode": {
    "name": "ipython",
    "version": 3
   },
   "file_extension": ".py",
   "mimetype": "text/x-python",
   "name": "python",
   "nbconvert_exporter": "python",
   "pygments_lexer": "ipython3",
   "version": "3.11.4"
  }
 },
 "nbformat": 4,
 "nbformat_minor": 5
}
