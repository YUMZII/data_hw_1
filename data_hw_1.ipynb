{
 "cells": [
  {
   "cell_type": "code",
   "execution_count": 5,
   "id": "128017d5-7656-4aeb-b2b2-970bcdd4afc7",
   "metadata": {},
   "outputs": [
    {
     "name": "stdout",
     "output_type": "stream",
     "text": [
      "Customer One Items:\n",
      "Lovely Loveseat. Tufted polyester blend on wood. 32 inches high x 40 inches wide x 30 inches deep. Red or white.\n",
      "Luxurious Lamp. Glass and iron. 36 inches tall. Brown with cream shade.\n",
      "\n",
      "Customer One Total:\n",
      "333.09119999999996\n"
     ]
    }
   ],
   "source": [
    "# 카탈로그 추가 목록/ 전역변수\n",
    "lovely_loveseat_description = \"Lovely Loveseat. Tufted polyester blend on wood. 32 inches high x 40 inches wide x 30 inches deep. Red or white.\"\n",
    "lovely_loveseat_price = 254.00\n",
    "\n",
    "stylish_settee_description = \"Stylish Settee. Faux leather on birch. 29.50 inches high x 54.75 inches wide x 28 inches deep. Black.\"\n",
    "stylish_settee_price = 180.50\n",
    "\n",
    "luxurious_lamp_description = \"Luxurious Lamp. Glass and iron. 36 inches tall. Brown with cream shade.\"\n",
    "luxurious_lamp_price = 52.15\n",
    "\n",
    "# 판매 세금\n",
    "sales_tax = 0.088\n",
    "\n",
    "# 첫 손님(금액을 처음 값을 0으로 지정해주고 문자도 추가할 수 있게 빈 문자열을 만들어줌)\n",
    "customer_one_total = 0\n",
    "customer_one_itemization = \"\"\n",
    "\n",
    "# total과 itemization에 Lovely Loveseat구매 추가 \"\\n\"은 다음문장으로 넘어가게 해줌\n",
    "customer_one_total += lovely_loveseat_price\n",
    "customer_one_itemization += lovely_loveseat_description + \"\\n\"\n",
    "\n",
    "# total과 itemization에 Luxurious Lamp 구매 추가\n",
    "customer_one_total += luxurious_lamp_price\n",
    "customer_one_itemization += luxurious_lamp_description + \"\\n\"\n",
    "\n",
    "# 세금 계산\n",
    "customer_one_tax = customer_one_total * sales_tax\n",
    "\n",
    "# 추가할 수 있게\n",
    "customer_one_total += customer_one_tax\n",
    "\n",
    "# 영수증\n",
    "print(\"Customer One Items:\")\n",
    "print(customer_one_itemization)\n",
    "print(\"Customer One Total:\")\n",
    "print(customer_one_total)"
   ]
  }
 ],
 "metadata": {
  "kernelspec": {
   "display_name": "Python 3 (ipykernel)",
   "language": "python",
   "name": "python3"
  },
  "language_info": {
   "codemirror_mode": {
    "name": "ipython",
    "version": 3
   },
   "file_extension": ".py",
   "mimetype": "text/x-python",
   "name": "python",
   "nbconvert_exporter": "python",
   "pygments_lexer": "ipython3",
   "version": "3.11.4"
  }
 },
 "nbformat": 4,
 "nbformat_minor": 5
}
